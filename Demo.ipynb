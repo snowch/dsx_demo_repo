{
    "cells": [
        {
            "cell_type": "code", 
            "metadata": {}, 
            "source": "print(\"Hello World!\")", 
            "execution_count": 1, 
            "outputs": [
                {
                    "output_type": "stream", 
                    "name": "stdout", 
                    "text": "Hello World!\n"
                }
            ]
        }, 
        {
            "cell_type": "code", 
            "metadata": {}, 
            "source": "", 
            "execution_count": null, 
            "outputs": []
        }
    ], 
    "nbformat": 4, 
    "metadata": {
        "kernelspec": {
            "display_name": "Python 2 with Spark 2.1", 
            "language": "python", 
            "name": "python2-spark21"
        }, 
        "language_info": {
            "version": "2.7.11", 
            "mimetype": "text/x-python", 
            "nbconvert_exporter": "python", 
            "file_extension": ".py", 
            "codemirror_mode": {
                "version": 2, 
                "name": "ipython"
            }, 
            "name": "python", 
            "pygments_lexer": "ipython2"
        }
    }, 
    "nbformat_minor": 1
}
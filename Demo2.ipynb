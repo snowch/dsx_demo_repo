{
    "nbformat": 4, 
    "cells": [
        {
            "cell_type": "code", 
            "metadata": {
                "collapsed": true
            }, 
            "source": "", 
            "outputs": [], 
            "execution_count": null
        }
    ], 
    "metadata": {
        "kernelspec": {
            "name": "python2-spark21", 
            "language": "python"
        }
    }, 
    "nbformat_minor": 0
}